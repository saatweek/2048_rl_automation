{
  "nbformat": 4,
  "nbformat_minor": 0,
  "metadata": {
    "colab": {
      "provenance": [],
      "authorship_tag": "ABX9TyPNNbUDnqixWbedQGubUbNB",
      "include_colab_link": true
    },
    "kernelspec": {
      "name": "python3",
      "display_name": "Python 3"
    },
    "language_info": {
      "name": "python"
    }
  },
  "cells": [
    {
      "cell_type": "markdown",
      "metadata": {
        "id": "view-in-github",
        "colab_type": "text"
      },
      "source": [
        "<a href=\"https://colab.research.google.com/github/saatweek/2048_rl_automation/blob/main/ch_1_summary.ipynb\" target=\"_parent\"><img src=\"https://colab.research.google.com/assets/colab-badge.svg\" alt=\"Open In Colab\"/></a>"
      ]
    },
    {
      "cell_type": "markdown",
      "source": [
        "# Chapter 1 : Introduction\n",
        "\n",
        "Generative Adversarial Networks (GANs)  is a type of an unsupervised learning method where there are two competing neural networks. The first network tries to generate fake data to fool the second model, while the second network tries to discriminate artificially generated data from the data sampled from our dataset"
      ],
      "metadata": {
        "id": "mRYnS1o3iWIy"
      }
    }
  ]
}